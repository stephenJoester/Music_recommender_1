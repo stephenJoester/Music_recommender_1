{
  "nbformat": 4,
  "nbformat_minor": 0,
  "metadata": {
    "colab": {
      "provenance": [],
      "toc_visible": true
    },
    "kernelspec": {
      "name": "python3",
      "display_name": "Python 3"
    },
    "language_info": {
      "name": "python"
    }
  },
  "cells": [
    {
      "cell_type": "markdown",
      "source": [
        "# Setup"
      ],
      "metadata": {
        "id": "MQ0GLhYSChys"
      }
    },
    {
      "cell_type": "code",
      "execution_count": null,
      "metadata": {
        "id": "NTRE6GgMwEhY",
        "colab": {
          "base_uri": "https://localhost:8080/"
        },
        "outputId": "a312b2b8-f503-4e9e-cce4-c82a21500e28"
      },
      "outputs": [
        {
          "output_type": "stream",
          "name": "stdout",
          "text": [
            "Downloading...\n",
            "From: https://drive.google.com/uc?id=1AGybRCQ1OGp78whNoHhg0_R47gOoQ3md\n",
            "To: /content/tracks_metadata.csv\n",
            "100% 3.79M/3.79M [00:00<00:00, 146MB/s]\n",
            "Downloading...\n",
            "From: https://drive.google.com/uc?id=1g2mTV8BgHXeqqUUpHYlbhSAbMRQLC93d\n",
            "To: /content/embedd_images.npy\n",
            "100% 827k/827k [00:00<00:00, 88.7MB/s]\n",
            "Downloading...\n",
            "From: https://drive.google.com/uc?id=1uYe0u-AX7Sz0iSnBO3WT21xwC0iJug4C\n",
            "To: /content/labels.npy\n",
            "100% 284k/284k [00:00<00:00, 104MB/s]\n",
            "Downloading...\n",
            "From: https://drive.google.com/uc?id=1dFpbL9w4a0-lT5nlV9nMMuASYeFSDJkA\n",
            "To: /content/embedd_metadata.json\n",
            "100% 3.06M/3.06M [00:00<00:00, 200MB/s]\n"
          ]
        }
      ],
      "source": [
        "!gdown 1AGybRCQ1OGp78whNoHhg0_R47gOoQ3md\n",
        "!gdown 1g2mTV8BgHXeqqUUpHYlbhSAbMRQLC93d\n",
        "!gdown 1uYe0u-AX7Sz0iSnBO3WT21xwC0iJug4C\n",
        "!gdown 1dFpbL9w4a0-lT5nlV9nMMuASYeFSDJkA"
      ]
    },
    {
      "cell_type": "code",
      "source": [
        "import numpy as np\n",
        "import json\n",
        "\n",
        "embedd_images = np.load(\"embedd_images.npy\")\n",
        "labels = np.load(\"labels.npy\")\n",
        "print(embedd_images.shape , labels.shape)\n",
        "\n",
        "with open(\"embedd_metadata.json\", \"r\") as f:\n",
        "    embedd_metadata = json.load(f)\n",
        "print(len(embedd_metadata))"
      ],
      "metadata": {
        "colab": {
          "base_uri": "https://localhost:8080/"
        },
        "id": "LNaJ3vXpwIyc",
        "outputId": "8cc90f82-b3ea-4fa1-8397-36fbd5e5740b"
      },
      "execution_count": null,
      "outputs": [
        {
          "output_type": "stream",
          "name": "stdout",
          "text": [
            "(3230, 64) (3230,)\n",
            "3231\n"
          ]
        }
      ]
    },
    {
      "cell_type": "code",
      "source": [
        "labels[0]"
      ],
      "metadata": {
        "colab": {
          "base_uri": "https://localhost:8080/",
          "height": 36
        },
        "id": "x-8yHMiGYLfp",
        "outputId": "df3892e3-398d-4e32-e255-d2a1e9791608"
      },
      "execution_count": null,
      "outputs": [
        {
          "output_type": "execute_result",
          "data": {
            "text/plain": [
              "'7HzNXTue6la8kfSC9cXnGa'"
            ],
            "application/vnd.google.colaboratory.intrinsic+json": {
              "type": "string"
            }
          },
          "metadata": {},
          "execution_count": 5
        }
      ]
    },
    {
      "cell_type": "code",
      "source": [
        "len(embedd_metadata[labels[0]])"
      ],
      "metadata": {
        "colab": {
          "base_uri": "https://localhost:8080/"
        },
        "id": "ekkWOwk4Xtrq",
        "outputId": "85483851-b601-4502-cdfd-a6886413e187"
      },
      "execution_count": null,
      "outputs": [
        {
          "output_type": "execute_result",
          "data": {
            "text/plain": [
              "64"
            ]
          },
          "metadata": {},
          "execution_count": 6
        }
      ]
    },
    {
      "cell_type": "code",
      "source": [
        "feature_vectors = []\n",
        "for i in range(len(embedd_images)):\n",
        "    feature = np.concatenate((embedd_images[i], embedd_metadata[labels[i]]))\n",
        "    feature_vectors.append(feature)\n",
        "feature_vectors = np.array(feature_vectors)\n",
        "feature_vectors.shape"
      ],
      "metadata": {
        "colab": {
          "base_uri": "https://localhost:8080/"
        },
        "id": "dWca6UZQYXbb",
        "outputId": "ce617ce1-c355-46d3-9f0f-6e6660f67976"
      },
      "execution_count": null,
      "outputs": [
        {
          "output_type": "execute_result",
          "data": {
            "text/plain": [
              "(3230, 128)"
            ]
          },
          "metadata": {},
          "execution_count": 7
        }
      ]
    },
    {
      "cell_type": "markdown",
      "source": [
        "# Evaluate with tags"
      ],
      "metadata": {
        "id": "LFRAvNDqx6Hj"
      }
    },
    {
      "cell_type": "code",
      "source": [
        "# !gdown 1udV8Ut0DVGeMyft_LUbnRbK0ED1xcMl6\n",
        "!gdown 1GWpeTiCME6irYKcCYHfazlf506-340r3"
      ],
      "metadata": {
        "colab": {
          "base_uri": "https://localhost:8080/"
        },
        "id": "wuj9sZNxxlhE",
        "outputId": "d040f455-e27e-407e-8814-45647b2f87cc"
      },
      "execution_count": null,
      "outputs": [
        {
          "output_type": "stream",
          "name": "stdout",
          "text": [
            "Downloading...\n",
            "From: https://drive.google.com/uc?id=1GWpeTiCME6irYKcCYHfazlf506-340r3\n",
            "To: /content/tracks_metadata_autotags.csv\n",
            "100% 6.16M/6.16M [00:00<00:00, 24.8MB/s]\n"
          ]
        }
      ]
    },
    {
      "cell_type": "code",
      "source": [
        "import pandas as pd\n",
        "\n",
        "metadata_tags = pd.read_csv('tracks_metadata_autotags.csv')\n",
        "print(len(metadata_tags))\n",
        "metadata_tags.head()"
      ],
      "metadata": {
        "colab": {
          "base_uri": "https://localhost:8080/",
          "height": 499
        },
        "id": "QOY_EsxGyCeW",
        "outputId": "e8301965-1473-4edb-90c0-6dcb527b527d"
      },
      "execution_count": null,
      "outputs": [
        {
          "output_type": "stream",
          "name": "stdout",
          "text": [
            "8324\n"
          ]
        },
        {
          "output_type": "execute_result",
          "data": {
            "text/plain": [
              "                                 track_title  \\\n",
              "0                      ...Baby One More Time   \n",
              "1  DJ Got Us Fallin' In Love (feat. Pitbull)   \n",
              "2                                     People   \n",
              "3               Somebody That I Used To Know   \n",
              "4                   Murder On The Dancefloor   \n",
              "\n",
              "                                           track_url  \\\n",
              "0  https://open.spotify.com/track/3MjUtNVVq3C8Fn0...   \n",
              "1  https://open.spotify.com/track/4356Typ82hUiFAy...   \n",
              "2  https://open.spotify.com/track/26b3oVLrRUaaybJ...   \n",
              "3  https://open.spotify.com/track/1qDrWA6lyx8cLEC...   \n",
              "4  https://open.spotify.com/track/4tKGFmENO69tZR9...   \n",
              "\n",
              "                                      track_album genre  \\\n",
              "0  ...Baby One More Time (Digital Deluxe Version)   Pop   \n",
              "1            Raymond v Raymond (Expanded Edition)   Pop   \n",
              "2                                          People   Pop   \n",
              "3                                  Making Mirrors   Pop   \n",
              "4                                    Read My Lips   Pop   \n",
              "\n",
              "                 track_id                                        preview_mp3  \\\n",
              "0  3MjUtNVVq3C8Fn0MP3zhXa  https://p.scdn.co/mp3-preview/174e01719c3b06ee...   \n",
              "1  4356Typ82hUiFAynbLYbPn  https://p.scdn.co/mp3-preview/1619c7342806281d...   \n",
              "2  26b3oVLrRUaaybJulow9kz  https://p.scdn.co/mp3-preview/abcbc9adf10ae490...   \n",
              "3  1qDrWA6lyx8cLECdZE7TV7  https://p.scdn.co/mp3-preview/36e1e9984c1a58cb...   \n",
              "4  4tKGFmENO69tZR9ahgZu48  https://p.scdn.co/mp3-preview/340bdf7b29f2725f...   \n",
              "\n",
              "  duration          artist_name  \\\n",
              "0     3:31       Britney Spears   \n",
              "1     3:40                USHER   \n",
              "2      3:4             Libianca   \n",
              "3      4:4                Gotye   \n",
              "4     3:50  Sophie Ellis-Bextor   \n",
              "\n",
              "                                          artist_url          release_date  \\\n",
              "0  https://open.spotify.com/artist/26dSoYclwsYLMA...  1999-01-12T00:00:00Z   \n",
              "1  https://open.spotify.com/artist/23zg3TcAtWQy7J...  2010-03-30T00:00:00Z   \n",
              "2  https://open.spotify.com/artist/7kjSuFGKhLm8b5...  2022-12-06T00:00:00Z   \n",
              "3  https://open.spotify.com/artist/2AsusXITU8P25d...  2011-01-01T00:00:00Z   \n",
              "4  https://open.spotify.com/artist/2cBh5lVMg222FF...  2002-06-06T00:00:00Z   \n",
              "\n",
              "   ... loudness  mode  speechiness  acousticness  instrumentalness  liveness  \\\n",
              "0  ...   -5.745   0.0       0.0307       0.20200          0.000131    0.4430   \n",
              "1  ...   -3.398   0.0       0.1090       0.03380          0.000000    0.0820   \n",
              "2  ...   -7.621   0.0       0.0678       0.55100          0.000013    0.1020   \n",
              "3  ...   -6.932   1.0       0.0371       0.54800          0.000115    0.0989   \n",
              "4  ...   -5.281   0.0       0.0299       0.00234          0.000026    0.3120   \n",
              "\n",
              "   valence    tempo  time_signature  \\\n",
              "0    0.907   92.960             4.0   \n",
              "1    0.654  119.963             4.0   \n",
              "2    0.693  124.357             5.0   \n",
              "3    0.748  129.059             4.0   \n",
              "4    0.887  117.310             4.0   \n",
              "\n",
              "                                                tags  \n",
              "0  {'female': 0.5753094553947449, 'pop': 0.418311...  \n",
              "1  {'pop': 0.5264065861701965, 'techno': 0.394188...  \n",
              "2  {'female': 0.5619944334030151, 'woman': 0.4503...  \n",
              "3  {'guitar': 0.43328985571861267, 'pop': 0.28120...  \n",
              "4  {'pop': 0.49464142322540283, 'techno': 0.42997...  \n",
              "\n",
              "[5 rows x 25 columns]"
            ],
            "text/html": [
              "\n",
              "  <div id=\"df-a80cfefd-bcd7-43de-b027-da0e4f8fea59\" class=\"colab-df-container\">\n",
              "    <div>\n",
              "<style scoped>\n",
              "    .dataframe tbody tr th:only-of-type {\n",
              "        vertical-align: middle;\n",
              "    }\n",
              "\n",
              "    .dataframe tbody tr th {\n",
              "        vertical-align: top;\n",
              "    }\n",
              "\n",
              "    .dataframe thead th {\n",
              "        text-align: right;\n",
              "    }\n",
              "</style>\n",
              "<table border=\"1\" class=\"dataframe\">\n",
              "  <thead>\n",
              "    <tr style=\"text-align: right;\">\n",
              "      <th></th>\n",
              "      <th>track_title</th>\n",
              "      <th>track_url</th>\n",
              "      <th>track_album</th>\n",
              "      <th>genre</th>\n",
              "      <th>track_id</th>\n",
              "      <th>preview_mp3</th>\n",
              "      <th>duration</th>\n",
              "      <th>artist_name</th>\n",
              "      <th>artist_url</th>\n",
              "      <th>release_date</th>\n",
              "      <th>...</th>\n",
              "      <th>loudness</th>\n",
              "      <th>mode</th>\n",
              "      <th>speechiness</th>\n",
              "      <th>acousticness</th>\n",
              "      <th>instrumentalness</th>\n",
              "      <th>liveness</th>\n",
              "      <th>valence</th>\n",
              "      <th>tempo</th>\n",
              "      <th>time_signature</th>\n",
              "      <th>tags</th>\n",
              "    </tr>\n",
              "  </thead>\n",
              "  <tbody>\n",
              "    <tr>\n",
              "      <th>0</th>\n",
              "      <td>...Baby One More Time</td>\n",
              "      <td>https://open.spotify.com/track/3MjUtNVVq3C8Fn0...</td>\n",
              "      <td>...Baby One More Time (Digital Deluxe Version)</td>\n",
              "      <td>Pop</td>\n",
              "      <td>3MjUtNVVq3C8Fn0MP3zhXa</td>\n",
              "      <td>https://p.scdn.co/mp3-preview/174e01719c3b06ee...</td>\n",
              "      <td>3:31</td>\n",
              "      <td>Britney Spears</td>\n",
              "      <td>https://open.spotify.com/artist/26dSoYclwsYLMA...</td>\n",
              "      <td>1999-01-12T00:00:00Z</td>\n",
              "      <td>...</td>\n",
              "      <td>-5.745</td>\n",
              "      <td>0.0</td>\n",
              "      <td>0.0307</td>\n",
              "      <td>0.20200</td>\n",
              "      <td>0.000131</td>\n",
              "      <td>0.4430</td>\n",
              "      <td>0.907</td>\n",
              "      <td>92.960</td>\n",
              "      <td>4.0</td>\n",
              "      <td>{'female': 0.5753094553947449, 'pop': 0.418311...</td>\n",
              "    </tr>\n",
              "    <tr>\n",
              "      <th>1</th>\n",
              "      <td>DJ Got Us Fallin' In Love (feat. Pitbull)</td>\n",
              "      <td>https://open.spotify.com/track/4356Typ82hUiFAy...</td>\n",
              "      <td>Raymond v Raymond (Expanded Edition)</td>\n",
              "      <td>Pop</td>\n",
              "      <td>4356Typ82hUiFAynbLYbPn</td>\n",
              "      <td>https://p.scdn.co/mp3-preview/1619c7342806281d...</td>\n",
              "      <td>3:40</td>\n",
              "      <td>USHER</td>\n",
              "      <td>https://open.spotify.com/artist/23zg3TcAtWQy7J...</td>\n",
              "      <td>2010-03-30T00:00:00Z</td>\n",
              "      <td>...</td>\n",
              "      <td>-3.398</td>\n",
              "      <td>0.0</td>\n",
              "      <td>0.1090</td>\n",
              "      <td>0.03380</td>\n",
              "      <td>0.000000</td>\n",
              "      <td>0.0820</td>\n",
              "      <td>0.654</td>\n",
              "      <td>119.963</td>\n",
              "      <td>4.0</td>\n",
              "      <td>{'pop': 0.5264065861701965, 'techno': 0.394188...</td>\n",
              "    </tr>\n",
              "    <tr>\n",
              "      <th>2</th>\n",
              "      <td>People</td>\n",
              "      <td>https://open.spotify.com/track/26b3oVLrRUaaybJ...</td>\n",
              "      <td>People</td>\n",
              "      <td>Pop</td>\n",
              "      <td>26b3oVLrRUaaybJulow9kz</td>\n",
              "      <td>https://p.scdn.co/mp3-preview/abcbc9adf10ae490...</td>\n",
              "      <td>3:4</td>\n",
              "      <td>Libianca</td>\n",
              "      <td>https://open.spotify.com/artist/7kjSuFGKhLm8b5...</td>\n",
              "      <td>2022-12-06T00:00:00Z</td>\n",
              "      <td>...</td>\n",
              "      <td>-7.621</td>\n",
              "      <td>0.0</td>\n",
              "      <td>0.0678</td>\n",
              "      <td>0.55100</td>\n",
              "      <td>0.000013</td>\n",
              "      <td>0.1020</td>\n",
              "      <td>0.693</td>\n",
              "      <td>124.357</td>\n",
              "      <td>5.0</td>\n",
              "      <td>{'female': 0.5619944334030151, 'woman': 0.4503...</td>\n",
              "    </tr>\n",
              "    <tr>\n",
              "      <th>3</th>\n",
              "      <td>Somebody That I Used To Know</td>\n",
              "      <td>https://open.spotify.com/track/1qDrWA6lyx8cLEC...</td>\n",
              "      <td>Making Mirrors</td>\n",
              "      <td>Pop</td>\n",
              "      <td>1qDrWA6lyx8cLECdZE7TV7</td>\n",
              "      <td>https://p.scdn.co/mp3-preview/36e1e9984c1a58cb...</td>\n",
              "      <td>4:4</td>\n",
              "      <td>Gotye</td>\n",
              "      <td>https://open.spotify.com/artist/2AsusXITU8P25d...</td>\n",
              "      <td>2011-01-01T00:00:00Z</td>\n",
              "      <td>...</td>\n",
              "      <td>-6.932</td>\n",
              "      <td>1.0</td>\n",
              "      <td>0.0371</td>\n",
              "      <td>0.54800</td>\n",
              "      <td>0.000115</td>\n",
              "      <td>0.0989</td>\n",
              "      <td>0.748</td>\n",
              "      <td>129.059</td>\n",
              "      <td>4.0</td>\n",
              "      <td>{'guitar': 0.43328985571861267, 'pop': 0.28120...</td>\n",
              "    </tr>\n",
              "    <tr>\n",
              "      <th>4</th>\n",
              "      <td>Murder On The Dancefloor</td>\n",
              "      <td>https://open.spotify.com/track/4tKGFmENO69tZR9...</td>\n",
              "      <td>Read My Lips</td>\n",
              "      <td>Pop</td>\n",
              "      <td>4tKGFmENO69tZR9ahgZu48</td>\n",
              "      <td>https://p.scdn.co/mp3-preview/340bdf7b29f2725f...</td>\n",
              "      <td>3:50</td>\n",
              "      <td>Sophie Ellis-Bextor</td>\n",
              "      <td>https://open.spotify.com/artist/2cBh5lVMg222FF...</td>\n",
              "      <td>2002-06-06T00:00:00Z</td>\n",
              "      <td>...</td>\n",
              "      <td>-5.281</td>\n",
              "      <td>0.0</td>\n",
              "      <td>0.0299</td>\n",
              "      <td>0.00234</td>\n",
              "      <td>0.000026</td>\n",
              "      <td>0.3120</td>\n",
              "      <td>0.887</td>\n",
              "      <td>117.310</td>\n",
              "      <td>4.0</td>\n",
              "      <td>{'pop': 0.49464142322540283, 'techno': 0.42997...</td>\n",
              "    </tr>\n",
              "  </tbody>\n",
              "</table>\n",
              "<p>5 rows × 25 columns</p>\n",
              "</div>\n",
              "    <div class=\"colab-df-buttons\">\n",
              "\n",
              "  <div class=\"colab-df-container\">\n",
              "    <button class=\"colab-df-convert\" onclick=\"convertToInteractive('df-a80cfefd-bcd7-43de-b027-da0e4f8fea59')\"\n",
              "            title=\"Convert this dataframe to an interactive table.\"\n",
              "            style=\"display:none;\">\n",
              "\n",
              "  <svg xmlns=\"http://www.w3.org/2000/svg\" height=\"24px\" viewBox=\"0 -960 960 960\">\n",
              "    <path d=\"M120-120v-720h720v720H120Zm60-500h600v-160H180v160Zm220 220h160v-160H400v160Zm0 220h160v-160H400v160ZM180-400h160v-160H180v160Zm440 0h160v-160H620v160ZM180-180h160v-160H180v160Zm440 0h160v-160H620v160Z\"/>\n",
              "  </svg>\n",
              "    </button>\n",
              "\n",
              "  <style>\n",
              "    .colab-df-container {\n",
              "      display:flex;\n",
              "      gap: 12px;\n",
              "    }\n",
              "\n",
              "    .colab-df-convert {\n",
              "      background-color: #E8F0FE;\n",
              "      border: none;\n",
              "      border-radius: 50%;\n",
              "      cursor: pointer;\n",
              "      display: none;\n",
              "      fill: #1967D2;\n",
              "      height: 32px;\n",
              "      padding: 0 0 0 0;\n",
              "      width: 32px;\n",
              "    }\n",
              "\n",
              "    .colab-df-convert:hover {\n",
              "      background-color: #E2EBFA;\n",
              "      box-shadow: 0px 1px 2px rgba(60, 64, 67, 0.3), 0px 1px 3px 1px rgba(60, 64, 67, 0.15);\n",
              "      fill: #174EA6;\n",
              "    }\n",
              "\n",
              "    .colab-df-buttons div {\n",
              "      margin-bottom: 4px;\n",
              "    }\n",
              "\n",
              "    [theme=dark] .colab-df-convert {\n",
              "      background-color: #3B4455;\n",
              "      fill: #D2E3FC;\n",
              "    }\n",
              "\n",
              "    [theme=dark] .colab-df-convert:hover {\n",
              "      background-color: #434B5C;\n",
              "      box-shadow: 0px 1px 3px 1px rgba(0, 0, 0, 0.15);\n",
              "      filter: drop-shadow(0px 1px 2px rgba(0, 0, 0, 0.3));\n",
              "      fill: #FFFFFF;\n",
              "    }\n",
              "  </style>\n",
              "\n",
              "    <script>\n",
              "      const buttonEl =\n",
              "        document.querySelector('#df-a80cfefd-bcd7-43de-b027-da0e4f8fea59 button.colab-df-convert');\n",
              "      buttonEl.style.display =\n",
              "        google.colab.kernel.accessAllowed ? 'block' : 'none';\n",
              "\n",
              "      async function convertToInteractive(key) {\n",
              "        const element = document.querySelector('#df-a80cfefd-bcd7-43de-b027-da0e4f8fea59');\n",
              "        const dataTable =\n",
              "          await google.colab.kernel.invokeFunction('convertToInteractive',\n",
              "                                                    [key], {});\n",
              "        if (!dataTable) return;\n",
              "\n",
              "        const docLinkHtml = 'Like what you see? Visit the ' +\n",
              "          '<a target=\"_blank\" href=https://colab.research.google.com/notebooks/data_table.ipynb>data table notebook</a>'\n",
              "          + ' to learn more about interactive tables.';\n",
              "        element.innerHTML = '';\n",
              "        dataTable['output_type'] = 'display_data';\n",
              "        await google.colab.output.renderOutput(dataTable, element);\n",
              "        const docLink = document.createElement('div');\n",
              "        docLink.innerHTML = docLinkHtml;\n",
              "        element.appendChild(docLink);\n",
              "      }\n",
              "    </script>\n",
              "  </div>\n",
              "\n",
              "\n",
              "<div id=\"df-2fc5031c-3285-493f-8e1c-6348e2085cbb\">\n",
              "  <button class=\"colab-df-quickchart\" onclick=\"quickchart('df-2fc5031c-3285-493f-8e1c-6348e2085cbb')\"\n",
              "            title=\"Suggest charts\"\n",
              "            style=\"display:none;\">\n",
              "\n",
              "<svg xmlns=\"http://www.w3.org/2000/svg\" height=\"24px\"viewBox=\"0 0 24 24\"\n",
              "     width=\"24px\">\n",
              "    <g>\n",
              "        <path d=\"M19 3H5c-1.1 0-2 .9-2 2v14c0 1.1.9 2 2 2h14c1.1 0 2-.9 2-2V5c0-1.1-.9-2-2-2zM9 17H7v-7h2v7zm4 0h-2V7h2v10zm4 0h-2v-4h2v4z\"/>\n",
              "    </g>\n",
              "</svg>\n",
              "  </button>\n",
              "\n",
              "<style>\n",
              "  .colab-df-quickchart {\n",
              "      --bg-color: #E8F0FE;\n",
              "      --fill-color: #1967D2;\n",
              "      --hover-bg-color: #E2EBFA;\n",
              "      --hover-fill-color: #174EA6;\n",
              "      --disabled-fill-color: #AAA;\n",
              "      --disabled-bg-color: #DDD;\n",
              "  }\n",
              "\n",
              "  [theme=dark] .colab-df-quickchart {\n",
              "      --bg-color: #3B4455;\n",
              "      --fill-color: #D2E3FC;\n",
              "      --hover-bg-color: #434B5C;\n",
              "      --hover-fill-color: #FFFFFF;\n",
              "      --disabled-bg-color: #3B4455;\n",
              "      --disabled-fill-color: #666;\n",
              "  }\n",
              "\n",
              "  .colab-df-quickchart {\n",
              "    background-color: var(--bg-color);\n",
              "    border: none;\n",
              "    border-radius: 50%;\n",
              "    cursor: pointer;\n",
              "    display: none;\n",
              "    fill: var(--fill-color);\n",
              "    height: 32px;\n",
              "    padding: 0;\n",
              "    width: 32px;\n",
              "  }\n",
              "\n",
              "  .colab-df-quickchart:hover {\n",
              "    background-color: var(--hover-bg-color);\n",
              "    box-shadow: 0 1px 2px rgba(60, 64, 67, 0.3), 0 1px 3px 1px rgba(60, 64, 67, 0.15);\n",
              "    fill: var(--button-hover-fill-color);\n",
              "  }\n",
              "\n",
              "  .colab-df-quickchart-complete:disabled,\n",
              "  .colab-df-quickchart-complete:disabled:hover {\n",
              "    background-color: var(--disabled-bg-color);\n",
              "    fill: var(--disabled-fill-color);\n",
              "    box-shadow: none;\n",
              "  }\n",
              "\n",
              "  .colab-df-spinner {\n",
              "    border: 2px solid var(--fill-color);\n",
              "    border-color: transparent;\n",
              "    border-bottom-color: var(--fill-color);\n",
              "    animation:\n",
              "      spin 1s steps(1) infinite;\n",
              "  }\n",
              "\n",
              "  @keyframes spin {\n",
              "    0% {\n",
              "      border-color: transparent;\n",
              "      border-bottom-color: var(--fill-color);\n",
              "      border-left-color: var(--fill-color);\n",
              "    }\n",
              "    20% {\n",
              "      border-color: transparent;\n",
              "      border-left-color: var(--fill-color);\n",
              "      border-top-color: var(--fill-color);\n",
              "    }\n",
              "    30% {\n",
              "      border-color: transparent;\n",
              "      border-left-color: var(--fill-color);\n",
              "      border-top-color: var(--fill-color);\n",
              "      border-right-color: var(--fill-color);\n",
              "    }\n",
              "    40% {\n",
              "      border-color: transparent;\n",
              "      border-right-color: var(--fill-color);\n",
              "      border-top-color: var(--fill-color);\n",
              "    }\n",
              "    60% {\n",
              "      border-color: transparent;\n",
              "      border-right-color: var(--fill-color);\n",
              "    }\n",
              "    80% {\n",
              "      border-color: transparent;\n",
              "      border-right-color: var(--fill-color);\n",
              "      border-bottom-color: var(--fill-color);\n",
              "    }\n",
              "    90% {\n",
              "      border-color: transparent;\n",
              "      border-bottom-color: var(--fill-color);\n",
              "    }\n",
              "  }\n",
              "</style>\n",
              "\n",
              "  <script>\n",
              "    async function quickchart(key) {\n",
              "      const quickchartButtonEl =\n",
              "        document.querySelector('#' + key + ' button');\n",
              "      quickchartButtonEl.disabled = true;  // To prevent multiple clicks.\n",
              "      quickchartButtonEl.classList.add('colab-df-spinner');\n",
              "      try {\n",
              "        const charts = await google.colab.kernel.invokeFunction(\n",
              "            'suggestCharts', [key], {});\n",
              "      } catch (error) {\n",
              "        console.error('Error during call to suggestCharts:', error);\n",
              "      }\n",
              "      quickchartButtonEl.classList.remove('colab-df-spinner');\n",
              "      quickchartButtonEl.classList.add('colab-df-quickchart-complete');\n",
              "    }\n",
              "    (() => {\n",
              "      let quickchartButtonEl =\n",
              "        document.querySelector('#df-2fc5031c-3285-493f-8e1c-6348e2085cbb button');\n",
              "      quickchartButtonEl.style.display =\n",
              "        google.colab.kernel.accessAllowed ? 'block' : 'none';\n",
              "    })();\n",
              "  </script>\n",
              "</div>\n",
              "\n",
              "    </div>\n",
              "  </div>\n"
            ],
            "application/vnd.google.colaboratory.intrinsic+json": {
              "type": "dataframe",
              "variable_name": "metadata_tags"
            }
          },
          "metadata": {},
          "execution_count": 9
        }
      ]
    },
    {
      "cell_type": "code",
      "source": [
        "id2song = {}\n",
        "for id, song in zip(metadata_tags['track_id'].values, metadata_tags['track_title'].values):\n",
        "    id2song[id] = song\n",
        "print(len(id2song))"
      ],
      "metadata": {
        "colab": {
          "base_uri": "https://localhost:8080/"
        },
        "id": "qPTjw4rwCvhP",
        "outputId": "1c40ffb0-e04c-4d08-eca4-a2ff37497c46"
      },
      "execution_count": null,
      "outputs": [
        {
          "output_type": "stream",
          "name": "stdout",
          "text": [
            "8324\n"
          ]
        }
      ]
    },
    {
      "cell_type": "code",
      "source": [
        "import ast\n",
        "\n",
        "id2tags = {}\n",
        "for id in metadata_tags['track_id']:\n",
        "    string_dict = metadata_tags[metadata_tags['track_id'] == id]['tags'].values[0]\n",
        "    id2tags[id] = list(ast.literal_eval(string_dict).keys())\n",
        "print(len(id2tags))"
      ],
      "metadata": {
        "colab": {
          "base_uri": "https://localhost:8080/"
        },
        "id": "jvvrPKtazHym",
        "outputId": "0acf2b4d-00c1-4f43-8919-3c23c15e990e"
      },
      "execution_count": null,
      "outputs": [
        {
          "output_type": "stream",
          "name": "stdout",
          "text": [
            "8324\n"
          ]
        }
      ]
    },
    {
      "cell_type": "code",
      "source": [
        "all_tags = []\n",
        "for id in id2tags:\n",
        "    all_tags.extend(id2tags[id])\n",
        "all_tags = list(set(all_tags))\n",
        "print(len(all_tags))\n",
        "print(all_tags)"
      ],
      "metadata": {
        "colab": {
          "base_uri": "https://localhost:8080/"
        },
        "id": "b_jCVwcN0xe5",
        "outputId": "cad99cc0-d353-43a8-8721-fec1f79b1dc8"
      },
      "execution_count": null,
      "outputs": [
        {
          "output_type": "stream",
          "name": "stdout",
          "text": [
            "50\n",
            "['harp', 'strings', 'female vocal', 'vocal', 'beats', 'sitar', 'choral', 'cello', 'soft', 'weird', 'solo', 'male', 'slow', 'indian', 'classical', 'dance', 'no vocals', 'ambient', 'guitar', 'harpsichord', 'female voice', 'female', 'woman', 'piano', 'opera', 'electronic', 'metal', 'choir', 'new age', 'synth', 'no vocal', 'vocals', 'fast', 'country', 'male vocal', 'voice', 'classic', 'man', 'drums', 'pop', 'loud', 'male voice', 'violin', 'flute', 'beat', 'quiet', 'rock', 'no voice', 'techno', 'singing']\n"
          ]
        }
      ]
    },
    {
      "cell_type": "code",
      "source": [
        "tags_mapping = {}\n",
        "tmp = 0\n",
        "for tag in all_tags:\n",
        "    tags_mapping[tag] = tmp\n",
        "    tmp += 1\n",
        "for id in id2tags:\n",
        "    id2tags[id] = [tags_mapping[tag] for tag in id2tags[id]]\n",
        "all_tags = [tags_mapping[tag] for tag in all_tags]"
      ],
      "metadata": {
        "id": "llEXss2C36Gd"
      },
      "execution_count": null,
      "outputs": []
    },
    {
      "cell_type": "code",
      "source": [
        "label_tags = []\n",
        "embedd_image_tags = []\n",
        "label_tmp = metadata_tags['track_id'].values\n",
        "for i in range(len(labels)):\n",
        "    if labels[i] in label_tmp:\n",
        "        label_tags.append(labels[i])\n",
        "        embedd_image_tags.append(embedd_images[i])\n",
        "    else:\n",
        "        print(labels[i])\n",
        "label_tags = np.array(label_tags)\n",
        "embedd_image_tags = np.array(embedd_image_tags)\n",
        "print(embedd_image_tags.shape, label_tags.shape)"
      ],
      "metadata": {
        "colab": {
          "base_uri": "https://localhost:8080/"
        },
        "id": "eToGqfEuASAC",
        "outputId": "8090b585-80b0-4e40-c3cf-95800fa10c19"
      },
      "execution_count": null,
      "outputs": [
        {
          "output_type": "stream",
          "name": "stdout",
          "text": [
            "(3230, 64) (3230,)\n"
          ]
        }
      ]
    },
    {
      "cell_type": "code",
      "source": [
        "from tqdm import tqdm\n",
        "\n",
        "def evaluate(get_recommend, metadata_tags, id2tags, all_tags, top_k=5, threshold=0.4):\n",
        "    num_relevants = 0\n",
        "    epsilon = 1e-10\n",
        "    length = len(metadata_tags)\n",
        "    for id in tqdm(metadata_tags['track_id']):\n",
        "        if id in label_tags:\n",
        "            list_recommends_songs, list_recommends_id = get_recommend(id, embedd_image_tags, label_tags, embedd_metadata, id2song, top_k)\n",
        "            target = id2tags[id]\n",
        "            preds = [id2tags[i] for i in list_recommends_id]\n",
        "\n",
        "            for pred in preds:\n",
        "                tp = len(set(target) & set(pred))\n",
        "                fp = len(set(pred) - set(target))\n",
        "                tn = len(set(all_tags) - (set(target) | set(pred)))\n",
        "                fn = len(set(target) - set(pred))\n",
        "                precision = tp / (tp + fp + epsilon)\n",
        "                recall = tp / (tp + fn + epsilon)\n",
        "                f1_score = 2 * precision * recall / (precision + recall + epsilon)\n",
        "                if f1_score >= threshold:\n",
        "                    num_relevants += 1\n",
        "        else:\n",
        "            length -= 1\n",
        "    return num_relevants / top_k / length"
      ],
      "metadata": {
        "id": "_f25baMmGQsz"
      },
      "execution_count": null,
      "outputs": []
    },
    {
      "cell_type": "markdown",
      "source": [
        "## Only spectrogram"
      ],
      "metadata": {
        "id": "ij7i-LeRazUa"
      }
    },
    {
      "cell_type": "code",
      "source": [
        "def get_recommend_spectrogram(recommend_wrt, embedd_images, labels, embedd_metadata, id2song, top_k=5):\n",
        "    predictions_song = []\n",
        "    predictions_label = []\n",
        "    distance_array = []\n",
        "\n",
        "    # Calculate the latent feature vectors for all the songs.\n",
        "    for i in range(len(labels)):\n",
        "        if labels[i] == recommend_wrt:\n",
        "            prediction_anchor = embedd_images[i]\n",
        "        else:\n",
        "            predictions_label.append(labels[i])\n",
        "            predictions_song.append(embedd_images[i])\n",
        "\n",
        "    # Count is used for averaging the latent feature vectors.\n",
        "    for i in range(len(predictions_song)):\n",
        "        # Cosine Similarity - Computes a similarity score of all songs with respect\n",
        "        # to the anchor song.\n",
        "        distance = np.sum(prediction_anchor * predictions_song[i]) / (np.sqrt(np.sum(prediction_anchor**2)) * np.sqrt(np.sum(predictions_song[i]**2)))\n",
        "        distance_array.append(distance)\n",
        "\n",
        "    distance_array = np.array(distance_array)\n",
        "    recommendations = 0\n",
        "\n",
        "    song_name = id2song[recommend_wrt]\n",
        "    list_recommends_id = []\n",
        "    list_recommends_songs = []\n",
        "    while recommendations < top_k:\n",
        "        index = np.argmax(distance_array)\n",
        "        value = distance_array[index]\n",
        "        song = id2song[predictions_label[index]]\n",
        "        if song != song_name and song not in list_recommends_songs:\n",
        "            list_recommends_songs.append(song)\n",
        "            list_recommends_id.append(predictions_label[index])\n",
        "            recommendations = recommendations + 1\n",
        "        distance_array[index] = -np.inf\n",
        "    return list_recommends_songs, list_recommends_id"
      ],
      "metadata": {
        "id": "wZ-oSpA-a5TZ"
      },
      "execution_count": null,
      "outputs": []
    },
    {
      "cell_type": "code",
      "source": [
        "eval_value = evaluate(get_recommend_spectrogram, metadata_tags, id2tags, all_tags)\n",
        "print(f\"\\nPerformance on test data = {eval_value}\")"
      ],
      "metadata": {
        "colab": {
          "base_uri": "https://localhost:8080/"
        },
        "id": "MZI058B9qeMo",
        "outputId": "b7394b47-0874-48ac-cb94-fd2220e7dc01"
      },
      "execution_count": null,
      "outputs": [
        {
          "output_type": "stream",
          "name": "stderr",
          "text": [
            "100%|██████████| 8324/8324 [03:52<00:00, 35.78it/s]\n"
          ]
        },
        {
          "output_type": "stream",
          "name": "stdout",
          "text": [
            "\n",
            "Performance on test data = 0.8435294117647059\n"
          ]
        }
      ]
    },
    {
      "cell_type": "markdown",
      "source": [
        "## Only metadata"
      ],
      "metadata": {
        "id": "7p01G2lNpwUQ"
      }
    },
    {
      "cell_type": "code",
      "source": [
        "def get_recommend_metadata(recommend_wrt, embedd_images, labels, embedd_metadata, id2song, top_k=5):\n",
        "    predictions_song = []\n",
        "    predictions_label = []\n",
        "    distance_array = []\n",
        "\n",
        "    # Calculate the latent feature vectors for all the songs.\n",
        "    for i in range(len(labels)):\n",
        "        if labels[i] == recommend_wrt:\n",
        "            prediction_anchor = embedd_metadata[labels[i]]\n",
        "        else:\n",
        "            predictions_label.append(labels[i])\n",
        "            predictions_song.append(embedd_metadata[labels[i]])\n",
        "    prediction_anchor = np.array(prediction_anchor)\n",
        "    predictions_song = np.array(predictions_song)\n",
        "\n",
        "    # Count is used for averaging the latent feature vectors.\n",
        "    for i in range(len(predictions_song)):\n",
        "        # Cosine Similarity - Computes a similarity score of all songs with respect\n",
        "        # to the anchor song.\n",
        "        distance = np.sum(prediction_anchor * predictions_song[i]) / (np.sqrt(np.sum(prediction_anchor**2)) * np.sqrt(np.sum(predictions_song[i]**2)))\n",
        "        distance_array.append(distance)\n",
        "\n",
        "    distance_array = np.array(distance_array)\n",
        "    recommendations = 0\n",
        "\n",
        "    song_name = id2song[recommend_wrt]\n",
        "    list_recommends_id = []\n",
        "    list_recommends_songs = []\n",
        "    while recommendations < top_k:\n",
        "        index = np.argmax(distance_array)\n",
        "        value = distance_array[index]\n",
        "        song = id2song[predictions_label[index]]\n",
        "        if song != song_name and song not in list_recommends_songs:\n",
        "            list_recommends_songs.append(song)\n",
        "            list_recommends_id.append(predictions_label[index])\n",
        "            recommendations = recommendations + 1\n",
        "        distance_array[index] = -np.inf\n",
        "    return list_recommends_songs, list_recommends_id"
      ],
      "metadata": {
        "id": "Hlyvp6impwUR"
      },
      "execution_count": null,
      "outputs": []
    },
    {
      "cell_type": "code",
      "source": [
        "eval_value = evaluate(get_recommend_metadata, metadata_tags, id2tags, all_tags)\n",
        "print(f\"\\nPerformance on test data = {eval_value}\")"
      ],
      "metadata": {
        "colab": {
          "base_uri": "https://localhost:8080/"
        },
        "id": "dHIJgBRSskR8",
        "outputId": "bbd7fc75-8ec6-4aca-a1ed-d94c0325d787"
      },
      "execution_count": null,
      "outputs": [
        {
          "output_type": "stream",
          "name": "stderr",
          "text": [
            "100%|██████████| 8324/8324 [04:53<00:00, 28.38it/s]  "
          ]
        },
        {
          "output_type": "stream",
          "name": "stdout",
          "text": [
            "\n",
            "Performance on test data = 0.7419814241486068\n"
          ]
        },
        {
          "output_type": "stream",
          "name": "stderr",
          "text": [
            "\n"
          ]
        }
      ]
    },
    {
      "cell_type": "markdown",
      "source": [
        "## Rerank"
      ],
      "metadata": {
        "id": "wB4OBk1OZXga"
      }
    },
    {
      "cell_type": "code",
      "source": [
        "def get_recommend_rerank(recommend_wrt, embedd_images, labels, embedd_metadata, id2song, top_k1=20, top_k2=5):\n",
        "    predictions_song = []\n",
        "    predictions_label = []\n",
        "    distance_array = []\n",
        "\n",
        "    for i in range(0, len(labels)):\n",
        "        if labels[i] == recommend_wrt:\n",
        "            prediction_anchor = embedd_images[i]\n",
        "        else:\n",
        "            predictions_label.append(labels[i])\n",
        "            predictions_song.append(embedd_images[i])\n",
        "\n",
        "    for i in range(len(predictions_song)):\n",
        "        distance_array.append(np.sum(prediction_anchor * predictions_song[i]) / (np.sqrt(np.sum(prediction_anchor**2)) * np.sqrt(np.sum(predictions_song[i]**2))))\n",
        "\n",
        "    distance_array = np.array(distance_array)\n",
        "    recommendations = 0\n",
        "\n",
        "    song_name = id2song[recommend_wrt]\n",
        "    list_recommends_id = []\n",
        "    list_recommends_songs = []\n",
        "    while recommendations < top_k1:\n",
        "        index = np.argmax(distance_array)\n",
        "        value = distance_array[index]\n",
        "        # song = metadata[metadata['track_id'] == predictions_label[index]]['track_title'].iloc[0]\n",
        "        song = id2song[predictions_label[index]]\n",
        "        if song != song_name and song not in list_recommends_songs:\n",
        "            list_recommends_songs.append(song)\n",
        "            list_recommends_id.append(predictions_label[index])\n",
        "            recommendations = recommendations + 1\n",
        "        distance_array[index] = -np.inf\n",
        "\n",
        "    # rerank\n",
        "    predictions_song = []\n",
        "    predictions_label = []\n",
        "    distance_array = []\n",
        "    list_metadata = []\n",
        "\n",
        "    for i in list_recommends_id:\n",
        "        list_metadata.append(embedd_metadata[i])\n",
        "    list_metadata = np.array(list_metadata)\n",
        "\n",
        "    # Calculate the latent feature vectors for all the songs.\n",
        "    for i in range(0, len(list_recommends_id)):\n",
        "        predictions_label.append(list_recommends_id[i])\n",
        "        predictions_song.append(list_metadata[i])\n",
        "\n",
        "    prediction_anchor = np.array(embedd_metadata[recommend_wrt])\n",
        "    for i in range(len(predictions_song)):\n",
        "        distance_array.append(np.sum(prediction_anchor * predictions_song[i]) / (np.sqrt(np.sum(prediction_anchor**2)) * np.sqrt(np.sum(predictions_song[i]**2))))\n",
        "\n",
        "    distance_array = np.array(distance_array)\n",
        "    recommendations = 0\n",
        "\n",
        "    list_recommends_id = []\n",
        "    list_recommends_songs = []\n",
        "    while recommendations < top_k2:\n",
        "        index = np.argmax(distance_array)\n",
        "        value = distance_array[index]\n",
        "        song = id2song[predictions_label[index]]\n",
        "        list_recommends_songs.append(song)\n",
        "        list_recommends_id.append(predictions_label[index])\n",
        "        recommendations = recommendations + 1\n",
        "        distance_array[index] = -np.inf\n",
        "\n",
        "    return list_recommends_songs, list_recommends_id"
      ],
      "metadata": {
        "id": "sxf9qkr3I52y"
      },
      "execution_count": null,
      "outputs": []
    },
    {
      "cell_type": "code",
      "source": [
        "eval_value = evaluate(get_recommend_rerank, metadata_tags, id2tags, all_tags)\n",
        "print(f\"\\nPerformance on test data = {eval_value}\")"
      ],
      "metadata": {
        "colab": {
          "base_uri": "https://localhost:8080/"
        },
        "id": "cnFSYbrlsmxa",
        "outputId": "c487062b-bcc6-4212-89ea-191b2e63e309"
      },
      "execution_count": null,
      "outputs": [
        {
          "output_type": "stream",
          "name": "stderr",
          "text": [
            "100%|██████████| 8324/8324 [03:41<00:00, 37.64it/s]  "
          ]
        },
        {
          "output_type": "stream",
          "name": "stdout",
          "text": [
            "\n",
            "Performance on test data = 0.8435294117647059\n"
          ]
        },
        {
          "output_type": "stream",
          "name": "stderr",
          "text": [
            "\n"
          ]
        }
      ]
    },
    {
      "cell_type": "markdown",
      "source": [
        "## Ensemble"
      ],
      "metadata": {
        "id": "olN4-YulZZyL"
      }
    },
    {
      "cell_type": "code",
      "source": [
        "def get_recommend_ensemble(recommend_wrt, embedd_images, labels, embedd_metadata, id2song, top_k=5):\n",
        "    predictions_song = []\n",
        "    predictions_metadata = []\n",
        "    predictions_label = []\n",
        "    distance_array = []\n",
        "\n",
        "    # Calculate the latent feature vectors for all the songs.\n",
        "    for i in range(len(labels)):\n",
        "        if labels[i] == recommend_wrt:\n",
        "            prediction_anchor_1 = embedd_images[i]\n",
        "            prediction_anchor_2 = embedd_metadata[labels[i]]\n",
        "        else:\n",
        "            predictions_label.append(labels[i])\n",
        "            predictions_song.append(embedd_images[i])\n",
        "            predictions_metadata.append(embedd_metadata[labels[i]])\n",
        "    prediction_anchor_2 = np.array(prediction_anchor_2)\n",
        "    predictions_metadata = np.array(predictions_metadata)\n",
        "\n",
        "    # Count is used for averaging the latent feature vectors.\n",
        "    for i in range(len(predictions_song)):\n",
        "        # Cosine Similarity - Computes a similarity score of all songs with respect\n",
        "        # to the anchor song.\n",
        "        distance_1 = np.sum(prediction_anchor_1 * predictions_song[i]) / (np.sqrt(np.sum(prediction_anchor_1**2)) * np.sqrt(np.sum(predictions_song[i]**2)))\n",
        "        distance_2 = np.sum(prediction_anchor_2 * predictions_metadata[i]) / (np.sqrt(np.sum(prediction_anchor_2**2)) * np.sqrt(np.sum(predictions_metadata[i]**2)))\n",
        "        distance_array.append(distance_1*0.6 + distance_2*0.4)\n",
        "\n",
        "    distance_array = np.array(distance_array)\n",
        "    recommendations = 0\n",
        "\n",
        "    song_name = id2song[recommend_wrt]\n",
        "    list_recommends_id = []\n",
        "    list_recommends_songs = []\n",
        "    while recommendations < top_k:\n",
        "        index = np.argmax(distance_array)\n",
        "        value = distance_array[index]\n",
        "        song = id2song[predictions_label[index]]\n",
        "        if song != song_name and song not in list_recommends_songs:\n",
        "            list_recommends_songs.append(song)\n",
        "            list_recommends_id.append(predictions_label[index])\n",
        "            recommendations = recommendations + 1\n",
        "        distance_array[index] = -np.inf\n",
        "    return list_recommends_songs, list_recommends_id"
      ],
      "metadata": {
        "id": "XhANcBxByLzc"
      },
      "execution_count": null,
      "outputs": []
    },
    {
      "cell_type": "code",
      "source": [
        "# 6:4\n",
        "eval_value = evaluate(get_recommend_ensemble, metadata_tags, id2tags, all_tags)\n",
        "print(f\"\\nPerformance on test data = {eval_value}\")"
      ],
      "metadata": {
        "colab": {
          "base_uri": "https://localhost:8080/"
        },
        "id": "kgkc9UKlspbF",
        "outputId": "efc67807-ecba-48e2-e83c-329ea8cf8d1b"
      },
      "execution_count": null,
      "outputs": [
        {
          "output_type": "stream",
          "name": "stderr",
          "text": [
            "100%|██████████| 8324/8324 [08:54<00:00, 15.56it/s]"
          ]
        },
        {
          "output_type": "stream",
          "name": "stdout",
          "text": [
            "\n",
            "Performance on test data = 0.8544891640866873\n"
          ]
        },
        {
          "output_type": "stream",
          "name": "stderr",
          "text": [
            "\n"
          ]
        }
      ]
    },
    {
      "cell_type": "code",
      "source": [
        "# 7:3\n",
        "eval_value = evaluate(get_recommend_ensemble, metadata_tags, id2tags, all_tags)\n",
        "print(f\"\\nPerformance on test data = {eval_value}\")"
      ],
      "metadata": {
        "colab": {
          "base_uri": "https://localhost:8080/"
        },
        "id": "in_0vsP2sq2K",
        "outputId": "4ab02c66-4f23-42e8-93eb-e55410ab8060"
      },
      "execution_count": null,
      "outputs": [
        {
          "output_type": "stream",
          "name": "stderr",
          "text": [
            "100%|██████████| 8324/8324 [08:54<00:00, 15.56it/s]  "
          ]
        },
        {
          "output_type": "stream",
          "name": "stdout",
          "text": [
            "\n",
            "Performance on test data = 0.8544891640866873\n"
          ]
        },
        {
          "output_type": "stream",
          "name": "stderr",
          "text": [
            "\n"
          ]
        }
      ]
    }
  ]
}